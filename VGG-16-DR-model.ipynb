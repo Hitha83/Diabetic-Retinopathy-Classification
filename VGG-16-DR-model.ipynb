{
  "nbformat": 4,
  "nbformat_minor": 0,
  "metadata": {
    "colab": {
      "name": "Inception-diabetic_retinopathy.ipynb",
      "provenance": [],
      "collapsed_sections": []
    },
    "kernelspec": {
      "display_name": "Python 3",
      "name": "python3"
    },
    "language_info": {
      "name": "python"
    }
  },
  "cells": [
    {
      "cell_type": "code",
      "metadata": {
        "colab": {
          "base_uri": "https://localhost:8080/"
        },
        "id": "BUSYXOV0uVnZ",
        "outputId": "85ccf1c2-01cb-4cf4-948a-84ebec2ff0d0"
      },
      "source": [
        "from google.colab import drive\n",
        "drive.mount ('/content/gdrive')\n"
      ],
      "execution_count": 1,
      "outputs": [
        {
          "output_type": "stream",
          "name": "stdout",
          "text": [
            "Mounted at /content/gdrive\n"
          ]
        }
      ]
    },
    {
      "cell_type": "code",
      "metadata": {
        "colab": {
          "base_uri": "https://localhost:8080/"
        },
        "id": "O_KYzA1lv5p_",
        "outputId": "25ffa528-9498-4233-c35b-ff92052613eb"
      },
      "source": [
        "!ls '/content/gdrive/MyDrive/DR_model'"
      ],
      "execution_count": 2,
      "outputs": [
        {
          "output_type": "stream",
          "name": "stdout",
          "text": [
            "best_model\t\t\t\t\t       train\n",
            "cnn-hyperparameter-tuning.ipynb\t\t\t       train2\n",
            "diabetic-retinopathy-with-resnet50-oversampling.ipynb  trainLabels.csv\n",
            "Inception-diabetic_retinopathy.ipynb\n"
          ]
        }
      ]
    },
    {
      "cell_type": "code",
      "metadata": {
        "id": "KcqxMaQNgQYj"
      },
      "source": [
        "import numpy as np # linear algebra\n",
        "import pandas as pd # data processing, CSV file I/O (e.g. pd.read_csv)\n",
        "import os\n",
        "import random\n",
        "import sys\n",
        "import cv2\n",
        "import matplotlib.pyplot as plt\n",
        "from subprocess import check_output\n",
        "from numpy import savez_compressed\n",
        "\n",
        "from keras.models import Sequential\n",
        "from keras.layers import Dense, Conv2D, MaxPooling2D, Dropout, Flatten\n",
        "from keras import regularizers\n",
        "from keras.callbacks import ModelCheckpoint, ReduceLROnPlateau\n",
        "from keras.preprocessing.image import ImageDataGenerator, array_to_img, img_to_array, load_img\n",
        "from tensorflow.keras.optimizers import Adam\n",
        "from sklearn.model_selection import train_test_split\n",
        "from tensorflow.keras.utils import to_categorical\n",
        "\n",
        "from keras.applications.vgg16 import preprocess_input\n",
        "from keras.applications.vgg16 import decode_predictions\n",
        "from keras.applications.vgg16 import VGG16\n",
        "\n",
        "#list the files in the input directory\n",
        "#print(os.listdir(\"../input\"))\n",
        "#print(check_output([\"ls\", \"../input\"]).decode(\"utf8\")) #trainLabels.csv\n",
        "#print(check_output([\"pwd\", \"\"]).decode(\"utf8\")) # /kaggle/working/\n",
        "#classes : 0 - No DR, 1 - Mild, 2 - Moderate, 3 - Severe, 4 - Proliferative DR\n",
        "def classes_to_int(label):\n",
        "    # label = classes.index(dir)\n",
        "    label = label.strip()\n",
        "    if label == \"No DR\":  return 0\n",
        "    if label == \"Mild\":  return 1\n",
        "    if label == \"Moderate\":  return 2\n",
        "    if label == \"Severe\":  return 3\n",
        "    if label == \"Proliferative DR\":  return 4\n",
        "    print(\"Invalid Label\", label)\n",
        "    return 5\n",
        "\n",
        "def int_to_classes(i):\n",
        "    if i == 0: return \"No DR\"\n",
        "    elif i == 1: return \"Mild\"\n",
        "    elif i == 2: return \"Moderate\"\n",
        "    elif i == 3: return \"Severe\"\n",
        "    elif i == 4: return \"Proliferative DR\"\n",
        "    print(\"Invalid class \", i)\n",
        "    return \"Invalid Class\""
      ],
      "execution_count": 3,
      "outputs": []
    },
    {
      "cell_type": "code",
      "metadata": {
        "id": "O_NhQXOB_pOY"
      },
      "source": [
        "labels = {0:\"No DR\", 1:\"Mild\",2:\"Moderate\",3:\"Severe\",4:\"Proliferative DR\"}"
      ],
      "execution_count": 4,
      "outputs": []
    },
    {
      "cell_type": "code",
      "metadata": {
        "id": "PDp8WzudHjBd"
      },
      "source": [
        "NUM_CLASSES = 5\n",
        "# we need images of same size so we convert them into the size\n",
        "WIDTH = 224\n",
        "HEIGHT = 224\n",
        "DEPTH = 3\n",
        "inputShape = (HEIGHT, WIDTH, DEPTH)\n",
        "\n",
        "# initialize number of epochs to train for, initial learning rate and batch size\n",
        "EPOCHS = 10\n",
        "INIT_LR = 1e-3\n",
        "BS = 32\n",
        "#global variables\n",
        "ImageNameDataHash = {}\n",
        "uniquePatientIDList = []"
      ],
      "execution_count": 5,
      "outputs": []
    },
    {
      "cell_type": "code",
      "metadata": {
        "id": "tcxrtdVTTMAu"
      },
      "source": [
        "def readTrainData(trainDir):\n",
        "    global ImageNameDataHash\n",
        "    # loop over the input images\n",
        "    images = os.listdir(trainDir)\n",
        "    print(\"Number of files in \" + trainDir + \" is \" + str(len(images)))\n",
        "    for imageFileName in images:\n",
        "        if (imageFileName == \"trainLabels.csv\"):\n",
        "            continue\n",
        "        # load the image, pre-process it, and store it in the data list\n",
        "        imageFullPath = os.path.join(os.path.sep, trainDir, imageFileName)\n",
        "        #print(imageFullPath)\n",
        "        img = load_img(imageFullPath)\n",
        "        arr = img_to_array(img) \n",
        "        dim1 = arr.shape[0]\n",
        "        dim2 = arr.shape[1]\n",
        "        dim3 = arr.shape[2]\n",
        "        #print(dim1)\n",
        "        #print(dim2)\n",
        "        #print(dim3)\n",
        "        if (dim1 < HEIGHT or dim2 < WIDTH or dim3 < DEPTH):\n",
        "            print(\"Error image dimensions are less than expected \"+str(arr.shape))\n",
        "        arr = cv2.resize(arr, (HEIGHT,WIDTH)) #Numpy array with shape (HEIGHT, WIDTH,3)\n",
        "        #print(arr.shape) # 256,256,3\n",
        "        dim1 = arr.shape[0]\n",
        "        dim2 = arr.shape[1]\n",
        "        dim3 = arr.shape[2]\n",
        "        if (dim1 != HEIGHT or dim2 != WIDTH or dim3 != DEPTH):\n",
        "            print(\"Error after resize, image dimensions are not equal to expected \"+str(arr.shape))\n",
        "        #print(type(arr))\n",
        "        # scale the raw pixel intensities to the range [0, 1] - TBD TEST\n",
        "        arr = np.array(arr, dtype=\"float\") / 255.0\n",
        "        imageFileName = imageFileName.replace('.jpeg','')\n",
        "        ImageNameDataHash[str(imageFileName)] = np.array(arr) \n",
        "      \n",
        "    return"
      ],
      "execution_count": 6,
      "outputs": []
    },
    {
      "cell_type": "code",
      "metadata": {
        "id": "SmARGASkJD1j"
      },
      "source": [
        "#csv contains image\tlevel\n",
        "#10_left 0\n",
        "#10_right 0\n",
        "import csv\n",
        "def readTrainCsv():\n",
        "    raw_df = pd.read_csv('/content/gdrive/My Drive/DR_model/trainLabels.csv', sep=',')\n",
        "    print(type(raw_df)) #<class 'pandas.core.frame.DataFrame'>\n",
        "    row_count=raw_df.shape[0] #gives number of row count row_count=35126 \n",
        "    col_count=raw_df.shape[1] #gives number of col count col count=2\n",
        "    print(\"row_count=\"+str(row_count)+\" col count=\"+str(col_count))\n",
        "    raw_df[\"PatientID\"] = ''\n",
        "    header_list = list(raw_df.columns)\n",
        "    print(header_list) # ['image', 'level', 'PatientID']\n",
        "    # double check if level of left and right are same or not\n",
        "    ImageLevelHash = {}\n",
        "    patientIDList = []\n",
        "    for index, row in raw_df.iterrows():\n",
        "        # 0 is image, 1 is level, 2 is PatientID, 3 is data\n",
        "        key = row[0] + ''\n",
        "        patientID = row[0] + ''\n",
        "        patientID = patientID.replace('_right','')\n",
        "        patientID = patientID.replace('_left','')\n",
        "        #print(\"Adding patient ID\"+ patientID)\n",
        "        raw_df.at[index, 'PatientID'] = patientID\n",
        "        patientIDList.append(patientID)\n",
        "        ImageLevelHash[key] = str(row[1]) # level\n",
        "                \n",
        "    global uniquePatientIDList\n",
        "    uniquePatientIDList = sorted(set(patientIDList))\n",
        "    count=0;\n",
        "    for patientID in uniquePatientIDList:\n",
        "        left_level = ImageLevelHash[str(patientID+'_left')]\n",
        "        right_level = ImageLevelHash[str(patientID+'_right')]\n",
        "        #right_exists = str(patientID+'_right') in raw_df.values\n",
        "        if (left_level != right_level):\n",
        "            count = count+1\n",
        "            #print(\"Warning for patient=\"+ str(patientID) + \" left_level=\" + left_level+ \" right_level=\" +right_level)\n",
        "    print(\"count of images with both left and right eye level not matching=\"+str(count)) # 2240\n",
        "    print(\"number of unique patients=\"+str(len(uniquePatientIDList))) # 17563\n",
        "    return raw_df"
      ],
      "execution_count": 8,
      "outputs": []
    },
    {
      "cell_type": "code",
      "metadata": {
        "colab": {
          "base_uri": "https://localhost:8080/"
        },
        "id": "YrH2m70ILBEH",
        "outputId": "5e60e97f-22ea-488e-d30c-7212e9dde940"
      },
      "source": [
        "random.seed(10)\n",
        "print(\"Reading trainLabels.csv...\")\n",
        "df = readTrainCsv()"
      ],
      "execution_count": 9,
      "outputs": [
        {
          "output_type": "stream",
          "name": "stdout",
          "text": [
            "Reading trainLabels.csv...\n",
            "<class 'pandas.core.frame.DataFrame'>\n",
            "row_count=35126 col count=2\n",
            "['image', 'level', 'PatientID']\n",
            "count of images with both left and right eye level not matching=2240\n",
            "number of unique patients=17563\n"
          ]
        }
      ]
    },
    {
      "cell_type": "code",
      "metadata": {
        "colab": {
          "base_uri": "https://localhost:8080/"
        },
        "id": "iw9lpGljLBJC",
        "outputId": "5ac8a2cd-febf-408a-aebe-8e870606e4f0"
      },
      "source": [
        "for i in range(0,10):\n",
        "    s = df.loc[df.index[i], 'PatientID'] # get patient id of patients\n",
        "    print(str(i) + \" patient's patientID=\"+str(s))"
      ],
      "execution_count": 10,
      "outputs": [
        {
          "output_type": "stream",
          "name": "stdout",
          "text": [
            "0 patient's patientID=10\n",
            "1 patient's patientID=10\n",
            "2 patient's patientID=13\n",
            "3 patient's patientID=13\n",
            "4 patient's patientID=15\n",
            "5 patient's patientID=15\n",
            "6 patient's patientID=16\n",
            "7 patient's patientID=16\n",
            "8 patient's patientID=17\n",
            "9 patient's patientID=17\n"
          ]
        }
      ]
    },
    {
      "cell_type": "code",
      "metadata": {
        "colab": {
          "base_uri": "https://localhost:8080/"
        },
        "id": "C8sSdxWILBNa",
        "outputId": "0808fcff-8842-4b7c-a078-ead595e6bf5d"
      },
      "source": [
        "# df has 3 columns ['image', 'level', 'PatientID']\n",
        "keepImages =  list(ImageNameDataHash.keys())\n",
        "df = df[df['image'].isin(keepImages)]\n",
        "print(len(df)) # 1000"
      ],
      "execution_count": 11,
      "outputs": [
        {
          "output_type": "stream",
          "name": "stdout",
          "text": [
            "3302\n"
          ]
        }
      ]
    },
    {
      "cell_type": "code",
      "metadata": {
        "colab": {
          "base_uri": "https://localhost:8080/"
        },
        "id": "foCtmfTwLBRj",
        "outputId": "c0dff0b5-4285-4ed8-f739-c888a89cffef"
      },
      "source": [
        "#convert hash to dataframe\n",
        "imageNameArr = []\n",
        "dataArr = []\n",
        "for index, row in df.iterrows():\n",
        "    key = str(row[0])\n",
        "    if key in ImageNameDataHash:\n",
        "        imageNameArr.append(key)\n",
        "        dataArr.append(np.array(ImageNameDataHash[key])) # np.array\n",
        "\n",
        "df2 = pd.DataFrame({'image': imageNameArr, 'data': dataArr})\n",
        "df2_header_list = list(df2.columns) \n",
        "print(df2_header_list) # ['image', 'data']\n",
        "print(len(df2)) # 1000\n",
        "#print(df2.describe(include='all'))\n",
        "#print(df2.sample(3)) # 3 rows x 2 columns"
      ],
      "execution_count": 12,
      "outputs": [
        {
          "output_type": "stream",
          "name": "stdout",
          "text": [
            "['image', 'data']\n",
            "3302\n"
          ]
        }
      ]
    },
    {
      "cell_type": "code",
      "metadata": {
        "colab": {
          "base_uri": "https://localhost:8080/"
        },
        "id": "BKZ0wptGLBWd",
        "outputId": "c234e9df-ca5c-4b9b-af91-9f10f60bac98"
      },
      "source": [
        "if len(df) != len(df2):\n",
        "    print(\"Error length of df != df2\")\n",
        "    \n",
        "for idx in range(0,len(df)):\n",
        "    if (df.loc[df.index[idx], 'image'] != df2.loc[df2.index[idx], 'image']):\n",
        "        print(\"Error \" + df.loc[df.index[idx], 'image'] +\"==\" + df2.loc[df2.index[idx], 'image'])\n",
        "        \n",
        "print(df2.dtypes)\n",
        "print(df.dtypes)"
      ],
      "execution_count": 13,
      "outputs": [
        {
          "output_type": "stream",
          "name": "stdout",
          "text": [
            "image    object\n",
            "data     object\n",
            "dtype: object\n",
            "image        object\n",
            "level         int64\n",
            "PatientID    object\n",
            "dtype: object\n"
          ]
        }
      ]
    },
    {
      "cell_type": "code",
      "metadata": {
        "colab": {
          "base_uri": "https://localhost:8080/"
        },
        "id": "OJBviNHaLBa_",
        "outputId": "8b55963f-5c82-41af-c03d-dcf3230d49c9"
      },
      "source": [
        "df = pd.merge(df2, df, left_on='image', right_on='image', how='outer')\n",
        "df_header_list = list(df.columns) \n",
        "print(df_header_list) # 'image', 'data', level', 'PatientID'\n",
        "print(len(df)) # 1000\n",
        "print(df.sample())\n",
        "#print(df)"
      ],
      "execution_count": 14,
      "outputs": [
        {
          "output_type": "stream",
          "name": "stdout",
          "text": [
            "['image', 'data', 'level', 'PatientID']\n",
            "3302\n",
            "            image  ... PatientID\n",
            "2356  29228_right  ...     29228\n",
            "\n",
            "[1 rows x 4 columns]\n"
          ]
        }
      ]
    },
    {
      "cell_type": "code",
      "metadata": {
        "colab": {
          "base_uri": "https://localhost:8080/"
        },
        "id": "LSa4oo_ek2ck",
        "outputId": "d67a657e-5e04-4a3e-a54c-829eb2618cdd"
      },
      "source": [
        "unique, counts = np.unique(df['level'], return_counts=True)\n",
        "dict(zip(unique, counts))"
      ],
      "execution_count": 15,
      "outputs": [
        {
          "output_type": "execute_result",
          "data": {
            "text/plain": [
              "{0: 2405, 1: 243, 2: 497, 3: 80, 4: 77}"
            ]
          },
          "metadata": {},
          "execution_count": 15
        }
      ]
    },
    {
      "cell_type": "code",
      "metadata": {
        "colab": {
          "base_uri": "https://localhost:8080/",
          "height": 1000
        },
        "id": "jZ_qCXXvH9tM",
        "outputId": "e0ddbb8b-d4ff-40ee-831d-0cd9fa4b9ed0"
      },
      "source": [
        "sample0 = df.loc[df.index[0], 'data']\n",
        "print(sample0)\n",
        "print(type(sample0)) # <class 'numpy.ndarray'>\n",
        "print(sample0.shape) # 128,128,3\n",
        "from matplotlib import pyplot as plt\n",
        "plt.imshow(sample0, interpolation='nearest')\n",
        "plt.show()\n",
        "print(\"Sample Image\")"
      ],
      "execution_count": 16,
      "outputs": [
        {
          "output_type": "stream",
          "name": "stdout",
          "text": [
            "[[[0. 0. 0.]\n",
            "  [0. 0. 0.]\n",
            "  [0. 0. 0.]\n",
            "  ...\n",
            "  [0. 0. 0.]\n",
            "  [0. 0. 0.]\n",
            "  [0. 0. 0.]]\n",
            "\n",
            " [[0. 0. 0.]\n",
            "  [0. 0. 0.]\n",
            "  [0. 0. 0.]\n",
            "  ...\n",
            "  [0. 0. 0.]\n",
            "  [0. 0. 0.]\n",
            "  [0. 0. 0.]]\n",
            "\n",
            " [[0. 0. 0.]\n",
            "  [0. 0. 0.]\n",
            "  [0. 0. 0.]\n",
            "  ...\n",
            "  [0. 0. 0.]\n",
            "  [0. 0. 0.]\n",
            "  [0. 0. 0.]]\n",
            "\n",
            " ...\n",
            "\n",
            " [[0. 0. 0.]\n",
            "  [0. 0. 0.]\n",
            "  [0. 0. 0.]\n",
            "  ...\n",
            "  [0. 0. 0.]\n",
            "  [0. 0. 0.]\n",
            "  [0. 0. 0.]]\n",
            "\n",
            " [[0. 0. 0.]\n",
            "  [0. 0. 0.]\n",
            "  [0. 0. 0.]\n",
            "  ...\n",
            "  [0. 0. 0.]\n",
            "  [0. 0. 0.]\n",
            "  [0. 0. 0.]]\n",
            "\n",
            " [[0. 0. 0.]\n",
            "  [0. 0. 0.]\n",
            "  [0. 0. 0.]\n",
            "  ...\n",
            "  [0. 0. 0.]\n",
            "  [0. 0. 0.]\n",
            "  [0. 0. 0.]]]\n",
            "<class 'numpy.ndarray'>\n",
            "(224, 224, 3)\n"
          ]
        },
        {
          "output_type": "display_data",
          "data": {
            "image/png": "[encoded data removed]",
            "text/plain": [
              "<Figure size 432x288 with 1 Axes>"
            ]
          },
          "metadata": {
            "needs_background": "light"
          }
        },
        {
          "output_type": "stream",
          "name": "stdout",
          "text": [
            "Sample Image\n"
          ]
        }
      ]
    },
    {
      "cell_type": "code",
      "metadata": {
        "id": "p95Q8wYSIEJQ"
      },
      "source": [
        "X = df['data']\n",
        "Y = df['level']\n",
        "# scale the raw pixel intensities to the range [0, 1]\n",
        "#print(type(X)) # 'pandas.core.series.Series'\n",
        "#X = np.array(X, dtype=\"float\") / 255.0 -- TBD moved to top\n",
        "Y = np.array(Y)\n",
        "# convert the labels from integers to vectors\n",
        "Y =  to_categorical(Y, num_classes=NUM_CLASSES)"
      ],
      "execution_count": 17,
      "outputs": []
    },
    {
      "cell_type": "code",
      "metadata": {
        "colab": {
          "base_uri": "https://localhost:8080/"
        },
        "id": "IbODrdzVILZy",
        "outputId": "fcd1ddff-3178-4700-c31b-f6a4b4e2423d"
      },
      "source": [
        "# partition the data into training and testing splits using 75% training and 25% for validation\n",
        "print(\"Parttition data into 75:15:15...\")\n",
        "sys.stdout.flush()\n",
        "print(\"Unique patients in dataframe df=\" + str(df.PatientID.nunique())) # 500\n",
        "unique_ids = df.PatientID.unique()\n",
        "print('unique_ids shape='+ str(len(unique_ids))) #500\n",
        "\n",
        "# Refer https://www.kaggle.com/kmader/tf-data-tutorial-with-retina-and-keras\n",
        "train2_ids, test_ids = train_test_split(unique_ids, test_size = 0.15, random_state = 10) #stratify = rr_df['level'])\n",
        "\n",
        "\n",
        "train_ids, valid_ids = train_test_split(train2_ids, test_size = 0.15, random_state = 10) #stratify = rr_df['level'])\n",
        "trainid_list = train_ids.tolist()\n",
        "print('trainid_list shape=', str(len(trainid_list))) # 375\n",
        "\n",
        "traindf = df[df.PatientID.isin(trainid_list)]\n",
        "testdf =  df[~df.PatientID.isin(trainid_list)]\n",
        "valSet = df[~df.PatientID.isin(trainid_list)]"
      ],
      "execution_count": 18,
      "outputs": [
        {
          "output_type": "stream",
          "name": "stdout",
          "text": [
            "Parttition data into 75:15:15...\n",
            "Unique patients in dataframe df=1652\n",
            "unique_ids shape=1652\n",
            "trainid_list shape= 1193\n"
          ]
        }
      ]
    },
    {
      "cell_type": "code",
      "metadata": {
        "colab": {
          "base_uri": "https://localhost:8080/"
        },
        "id": "fhnDvPLRIPA4",
        "outputId": "4928bc2d-4278-4f51-e37c-7ef5e56f2f83"
      },
      "source": [
        "print(traindf.head())\n",
        "print(testdf.head())\n",
        "print(valSet.head())\n",
        "\n",
        "\n",
        "\n",
        "traindf = traindf.reset_index(drop=True)\n",
        "testdf = testdf.reset_index(drop=True)\n",
        "valSet = valSet.reset_index(drop=True)\n",
        "\n",
        "print(len(traindf))\n",
        "print(len(testdf))\n",
        "print(len(valSet))"
      ],
      "execution_count": 19,
      "outputs": [
        {
          "output_type": "stream",
          "name": "stdout",
          "text": [
            "      image                                               data  level PatientID\n",
            "0   30_left  [[[0.0, 0.0, 0.0], [0.0, 0.0, 0.0], [0.0, 0.0,...      1        30\n",
            "1  30_right  [[[0.0, 0.0, 0.0], [0.0, 0.0, 0.0], [0.0, 0.0,...      2        30\n",
            "4   33_left  [[[0.0, 0.0, 0.0], [0.0, 0.0, 0.0], [0.0, 0.0,...      0        33\n",
            "5  33_right  [[[0.0, 0.0, 0.0], [0.0, 0.0, 0.0], [0.0, 0.0,...      0        33\n",
            "8   84_left  [[[0.0, 0.0, 0.0], [0.0, 0.0, 0.0], [0.0, 0.0,...      0        84\n",
            "       image  ... PatientID\n",
            "2    31_left  ...        31\n",
            "3   31_right  ...        31\n",
            "6    36_left  ...        36\n",
            "7   36_right  ...        36\n",
            "10   95_left  ...        95\n",
            "\n",
            "[5 rows x 4 columns]\n",
            "       image  ... PatientID\n",
            "2    31_left  ...        31\n",
            "3   31_right  ...        31\n",
            "6    36_left  ...        36\n",
            "7   36_right  ...        36\n",
            "10   95_left  ...        95\n",
            "\n",
            "[5 rows x 4 columns]\n",
            "2385\n",
            "917\n",
            "917\n"
          ]
        }
      ]
    },
    {
      "cell_type": "code",
      "metadata": {
        "colab": {
          "base_uri": "https://localhost:8080/"
        },
        "id": "SarauiVYISbt",
        "outputId": "a96fea67-0ebc-4f80-a964-1c9b4bdc42ac"
      },
      "source": [
        "trainX = traindf['data']\n",
        "trainY = traindf['level']\n",
        "\n",
        "testX = testdf['data']\n",
        "testY = testdf['level']\n",
        "\n",
        "valX = valSet['data']\n",
        "valY = valSet['level']\n",
        "\n",
        "#(trainX, valX, trainY, valY) = train_test_split(X,Y,test_size=0.25, random_state=10)\n",
        "print('trainX shape=', trainX.shape[0], 'testX shape=', testX.shape[0], 'valX shape=', valX.shape[0]) # 750, 250"
      ],
      "execution_count": 20,
      "outputs": [
        {
          "output_type": "stream",
          "name": "stdout",
          "text": [
            "trainX shape= 2385 testX shape= 917 valX shape= 917\n"
          ]
        }
      ]
    },
    {
      "cell_type": "code",
      "metadata": {
        "colab": {
          "base_uri": "https://localhost:8080/"
        },
        "id": "WavL5ND0IhGl",
        "outputId": "b5719f3d-0b44-4cbd-9efa-7cefe8bdd4c1"
      },
      "source": [
        "trainY =  to_categorical(trainY, num_classes=NUM_CLASSES)\n",
        "testY =  to_categorical(testY, num_classes=NUM_CLASSES)\n",
        "valY =  to_categorical(valY, num_classes=NUM_CLASSES)\n",
        "print(valY)"
      ],
      "execution_count": 21,
      "outputs": [
        {
          "output_type": "stream",
          "name": "stdout",
          "text": [
            "[[1. 0. 0. 0. 0.]\n",
            " [1. 0. 0. 0. 0.]\n",
            " [0. 1. 0. 0. 0.]\n",
            " ...\n",
            " [0. 0. 1. 0. 0.]\n",
            " [0. 0. 1. 0. 0.]\n",
            " [0. 0. 1. 0. 0.]]\n"
          ]
        }
      ]
    },
    {
      "cell_type": "code",
      "metadata": {
        "colab": {
          "base_uri": "https://localhost:8080/"
        },
        "id": "5eYMywJVHMxu",
        "outputId": "f8e4c5c2-12bb-4cb7-f140-ac21094c0ebf"
      },
      "source": [
        "testX[0].shape"
      ],
      "execution_count": 22,
      "outputs": [
        {
          "output_type": "execute_result",
          "data": {
            "text/plain": [
              "(224, 224, 3)"
            ]
          },
          "metadata": {},
          "execution_count": 22
        }
      ]
    },
    {
      "cell_type": "code",
      "metadata": {
        "colab": {
          "base_uri": "https://localhost:8080/"
        },
        "id": "FjSm1Um2ImCL",
        "outputId": "98ba45f5-43df-44a0-ef7e-1e2ee28ce79c"
      },
      "source": [
        "#construct the image generator for data augmentation\n",
        "print(\"Generating images...\")\n",
        "sys.stdout.flush()\n",
        "aug = ImageDataGenerator(rotation_range=30, width_shift_range=0.1, \\\n",
        "    height_shift_range=0.1, shear_range=0.2, zoom_range=0.2,\\\n",
        "    horizontal_flip=True, fill_mode=\"nearest\")"
      ],
      "execution_count": 23,
      "outputs": [
        {
          "output_type": "stream",
          "name": "stdout",
          "text": [
            "Generating images...\n"
          ]
        }
      ]
    },
    {
      "cell_type": "code",
      "metadata": {
        "id": "npS03XS7VZUP",
        "colab": {
          "base_uri": "https://localhost:8080/"
        },
        "outputId": "737b0bc3-c081-451d-ac55-c6235329cd0e"
      },
      "source": [
        "base_model = VGG16(weights=\"imagenet\", include_top=False,input_shape=inputShape)\n",
        "base_model.trainable = False ## Not trainable weights\n",
        "\n",
        "from tensorflow.keras import layers, models\n",
        "\n",
        "flatten_layer = layers.Flatten()\n",
        "dense_layer_1 = layers.Dense(50, activation='relu')\n",
        "dense_layer_2 = layers.Dense(20, activation='relu')\n",
        "prediction_layer = layers.Dense(5, activation='softmax')\n",
        "model = models.Sequential([\n",
        "    base_model,\n",
        "    flatten_layer,\n",
        "    dense_layer_1,\n",
        "    dense_layer_2,\n",
        "    prediction_layer\n",
        "])\n"
      ],
      "execution_count": 24,
      "outputs": [
        {
          "output_type": "stream",
          "name": "stdout",
          "text": [
            "Downloading data from https://storage.googleapis.com/tensorflow/keras-applications/vgg16/vgg16_weights_tf_dim_ordering_tf_kernels_notop.h5\n",
            "58892288/58889256 [==============================] - 0s 0us/step\n",
            "58900480/58889256 [==============================] - 0s 0us/step\n"
          ]
        }
      ]
    },
    {
      "cell_type": "code",
      "metadata": {
        "colab": {
          "base_uri": "https://localhost:8080/"
        },
        "id": "h-dslZOpXVlg",
        "outputId": "cdaa4217-c74a-4733-ab42-7363f1814633"
      },
      "source": [
        "model.summary()"
      ],
      "execution_count": 25,
      "outputs": [
        {
          "output_type": "stream",
          "name": "stdout",
          "text": [
            "Model: \"sequential\"\n",
            "_________________________________________________________________\n",
            "Layer (type)                 Output Shape              Param #   \n",
            "=================================================================\n",
            "vgg16 (Functional)           (None, 7, 7, 512)         14714688  \n",
            "_________________________________________________________________\n",
            "flatten (Flatten)            (None, 25088)             0         \n",
            "_________________________________________________________________\n",
            "dense (Dense)                (None, 50)                1254450   \n",
            "_________________________________________________________________\n",
            "dense_1 (Dense)              (None, 20)                1020      \n",
            "_________________________________________________________________\n",
            "dense_2 (Dense)              (None, 5)                 105       \n",
            "=================================================================\n",
            "Total params: 15,970,263\n",
            "Trainable params: 1,255,575\n",
            "Non-trainable params: 14,714,688\n",
            "_________________________________________________________________\n"
          ]
        }
      ]
    },
    {
      "cell_type": "code",
      "metadata": {
        "id": "ejQ91_hoFidT"
      },
      "source": [
        "opt = 'rmsprop'\n",
        "model.compile(loss=\"categorical_crossentropy\", optimizer=opt, metrics=[\"accuracy\"])"
      ],
      "execution_count": 26,
      "outputs": []
    },
    {
      "cell_type": "code",
      "metadata": {
        "colab": {
          "base_uri": "https://localhost:8080/"
        },
        "id": "1Jd9uiTJI5NG",
        "outputId": "f43dbe35-132d-48f9-c217-b73fbd2f243d"
      },
      "source": [
        "print(\"Reshaping trainX at...\"+ str(datetime.now()))\n",
        "#print(trainX.sample()) \n",
        "print(type(trainX)) # <class 'pandas.core.series.Series'>\n",
        "print(trainX.shape) # (750,)\n",
        "from numpy import zeros\n",
        "Xtrain = np.zeros([trainX.shape[0],HEIGHT, WIDTH, DEPTH])\n",
        "for i in range(trainX.shape[0]): # 0 to traindf Size -1\n",
        "    Xtrain[i] = trainX[i]\n",
        "print(Xtrain.shape) # (750,128,128,3)\n",
        "print(\"Reshaped trainX at...\"+ str(datetime.now()))"
      ],
      "execution_count": null,
      "outputs": [
        {
          "name": "stdout",
          "output_type": "stream",
          "text": [
            "Reshaping trainX at...2021-10-30 08:38:12.853288\n",
            "<class 'pandas.core.series.Series'>\n",
            "(2385,)\n",
            "(2385, 128, 128, 3)\n",
            "Reshaped trainX at...2021-10-30 08:38:16.067474\n"
          ]
        }
      ]
    },
    {
      "cell_type": "code",
      "metadata": {
        "colab": {
          "base_uri": "https://localhost:8080/"
        },
        "id": "1smTaBpQxbKW",
        "outputId": "cdeea053-bbae-431f-a03f-93841701f33f"
      },
      "source": [
        "print(\"Reshaping testX at...\"+ str(datetime.now()))\n",
        "print(testX.shape) \n",
        "print(type(testX)) # <class 'pandas.core.series.Series'>\n",
        "print(testX.shape) # (750,)\n",
        "from numpy import zeros\n",
        "Xtest = np.zeros([testX.shape[0],HEIGHT, WIDTH, DEPTH])\n",
        "for i in range(testX.shape[0]): # 0 to traindf Size -1\n",
        "    Xtest[i] = testX[i]\n",
        "print(Xtest.shape) # (750,128,128,3)\n",
        "print(\"Reshaped testX at...\"+ str(datetime.now()))"
      ],
      "execution_count": 27,
      "outputs": [
        {
          "output_type": "stream",
          "name": "stdout",
          "text": [
            "Reshaping testX at...2021-11-01 12:31:51.761930\n",
            "(917,)\n",
            "<class 'pandas.core.series.Series'>\n",
            "(917,)\n",
            "(917, 224, 224, 3)\n",
            "Reshaped testX at...2021-11-01 12:31:52.834924\n"
          ]
        }
      ]
    },
    {
      "cell_type": "code",
      "metadata": {
        "colab": {
          "base_uri": "https://localhost:8080/"
        },
        "id": "y2RO_PmgI56N",
        "outputId": "050cdf21-141f-45cf-c77e-8983e68469e1"
      },
      "source": [
        "print(\"Reshaping valX at...\"+ str(datetime.now()))\n",
        "print(type(valX)) # <class 'pandas.core.series.Series'>\n",
        "print(valX.shape) # (250,)\n",
        "from numpy import zeros\n",
        "Xval = np.zeros([valX.shape[0],HEIGHT, WIDTH, DEPTH])\n",
        "for i in range(valX.shape[0]): # 0 to traindf Size -1\n",
        "    Xval[i] = valX[i]\n",
        "print(Xval.shape) # (250,128,128,3)\n",
        "print(\"Reshaped valX at...\"+ str(datetime.now()))"
      ],
      "execution_count": null,
      "outputs": [
        {
          "output_type": "stream",
          "name": "stdout",
          "text": [
            "Reshaping valX at...2021-11-01 12:31:56.020585\n",
            "<class 'pandas.core.series.Series'>\n",
            "(917,)\n"
          ]
        }
      ]
    },
    {
      "cell_type": "code",
      "metadata": {
        "id": "nU-JzvZeUY3b"
      },
      "source": [
        "Xtrain = preprocess_input(Xtrain)\n",
        "Xval = preprocess_input(Xval)\n",
        "Xtest = preprocess_input(Xtest)"
      ],
      "execution_count": null,
      "outputs": []
    },
    {
      "cell_type": "code",
      "metadata": {
        "id": "kwE7jMlLDmOP"
      },
      "source": [
        "path = 'modelpath'"
      ],
      "execution_count": null,
      "outputs": []
    },
    {
      "cell_type": "code",
      "metadata": {
        "id": "ESBHo7SWDkMt"
      },
      "source": [
        ""
      ],
      "execution_count": null,
      "outputs": []
    },
    {
      "cell_type": "code",
      "metadata": {
        "id": "iRUOxXeCP5tw"
      },
      "source": [
        "# train the network\n",
        "print(\"training network...\")\n",
        "sys.stdout.flush()\n",
        "#class_mode ='categorical', # 2D one-hot encoded labels\n",
        "\n",
        "H = model.fit(aug.flow(Xtrain, trainY, batch_size=BS), \\\n",
        "    validation_data=(Xval, valY), \\\n",
        "    steps_per_epoch=len(trainX) // BS, \\\n",
        "    epochs=EPOCHS, verbose=1)\n",
        "# save the model to disk\n",
        "print(\"Saving model to disk\")\n",
        "sys.stdout.flush()\n",
        "model.save(path)\n"
      ],
      "execution_count": null,
      "outputs": []
    },
    {
      "cell_type": "code",
      "metadata": {
        "colab": {
          "base_uri": "https://localhost:8080/",
          "height": 316
        },
        "id": "N81npVbqfwc0",
        "outputId": "e8d9804a-d396-41e0-cbe3-4379c017313c"
      },
      "source": [
        "import matplotlib\n",
        "# set the matplotlib backend so figures can be saved in the background\n",
        "# plot the training loss and accuracy\n",
        "print(\"Generating plots...\")\n",
        "sys.stdout.flush()\n",
        "matplotlib.use(\"Agg\")\n",
        "matplotlib.pyplot.style.use(\"ggplot\")\n",
        "matplotlib.pyplot.figure()\n",
        "N = EPOCHS\n",
        "matplotlib.pyplot.plot(np.arange(0, N), H.history[\"loss\"], label=\"train_loss\")\n",
        "matplotlib.pyplot.plot(np.arange(0, N), H.history[\"val_loss\"], label=\"val_loss\")\n",
        "matplotlib.pyplot.plot(np.arange(0, N), H.history[\"accuracy\"], label=\"train_acc\")\n",
        "matplotlib.pyplot.plot(np.arange(0, N), H.history[\"val_accuracy\"], label=\"val_acc\")\n",
        "matplotlib.pyplot.title(\"Training Loss and Accuracy on diabetic retinopathy detection\")\n",
        "matplotlib.pyplot.xlabel(\"Epoch #\")\n",
        "matplotlib.pyplot.ylabel(\"Loss/Accuracy\")\n",
        "matplotlib.pyplot.legend(loc=\"lower left\")\n",
        "matplotlib.pyplot.savefig(\"plot.png\")"
      ],
      "execution_count": null,
      "outputs": [
        {
          "name": "stdout",
          "output_type": "stream",
          "text": [
            "Generating plots...\n"
          ]
        },
        {
          "data": {
            "image/png": "[encoded data removed]",
            "text/plain": [
              "<Figure size 432x288 with 1 Axes>"
            ]
          },
          "metadata": {},
          "output_type": "display_data"
        }
      ]
    },
    {
      "cell_type": "code",
      "metadata": {
        "id": "ALEUOVv3Itt1"
      },
      "source": [
        ""
      ],
      "execution_count": null,
      "outputs": []
    },
    {
      "cell_type": "code",
      "metadata": {
        "id": "oHcOwg4A6IaV"
      },
      "source": [
        "from sklearn.metrics import accuracy_score\n",
        "from sklearn.metrics import precision_score\n",
        "from sklearn.metrics import recall_score\n",
        "from sklearn.metrics import f1_score\n",
        "from sklearn.metrics import cohen_kappa_score\n",
        "from sklearn.metrics import roc_auc_score\n",
        "from sklearn.metrics import confusion_matrix"
      ],
      "execution_count": null,
      "outputs": []
    },
    {
      "cell_type": "code",
      "metadata": {
        "colab": {
          "base_uri": "https://localhost:8080/"
        },
        "id": "wMxlAAqnRLEM",
        "outputId": "6595dcaf-e236-430c-9220-4d32997d1163"
      },
      "source": [
        "score = model.evaluate(Xtest, testY, verbose = 0) \n",
        "\n",
        "print('Test loss:', score[0]) \n",
        "print('Test accuracy:', score[1])"
      ],
      "execution_count": null,
      "outputs": [
        {
          "name": "stdout",
          "output_type": "stream",
          "text": [
            "Test loss: 1.5440173149108887\n",
            "Test accuracy: 0.05343511328101158\n"
          ]
        }
      ]
    },
    {
      "cell_type": "code",
      "metadata": {
        "id": "V-qPetmZnVJ6"
      },
      "source": [
        ""
      ],
      "execution_count": null,
      "outputs": []
    },
    {
      "cell_type": "code",
      "metadata": {
        "colab": {
          "base_uri": "https://localhost:8080/"
        },
        "id": "7ilKdid4vgBg",
        "outputId": "db216bcc-0e1a-45ef-ffa1-440931f18c06"
      },
      "source": [
        "predict_x=model.predict(Xtest) \n",
        "print(predict_x)\n",
        "classes_x=np.argmax(predict_x,axis=1)\n",
        "#classes_x"
      ],
      "execution_count": null,
      "outputs": [
        {
          "name": "stdout",
          "output_type": "stream",
          "text": [
            "[[0.22943969 0.54361176 0.10322331 0.04372473 0.08000048]\n",
            " [0.23439401 0.5419434  0.10207231 0.04149581 0.08009449]\n",
            " [0.27678254 0.50623596 0.10008547 0.04137615 0.07551986]\n",
            " ...\n",
            " [0.28144795 0.53761286 0.08122824 0.03425913 0.06545187]\n",
            " [0.27559245 0.49916288 0.10905498 0.04383969 0.07234999]\n",
            " [0.2597533  0.5419615  0.09386255 0.04390321 0.06051951]]\n"
          ]
        }
      ]
    },
    {
      "cell_type": "markdown",
      "metadata": {
        "id": "O2SGKaRjVGOl"
      },
      "source": [
        "The scikit-learn metrics API expects a 1D array of actual and predicted values for comparison, therefore, we must reduce the 2D prediction arrays to 1D arrays.\n",
        "\n"
      ]
    },
    {
      "cell_type": "code",
      "metadata": {
        "id": "tZTolOcqUzai"
      },
      "source": [
        "# reduce to 1d array\n",
        "predict_x = predict_x[:,0]\n",
        "classes_x = classes_x[:]"
      ],
      "execution_count": null,
      "outputs": []
    },
    {
      "cell_type": "markdown",
      "metadata": {
        "id": "61fPkEOeVS3X"
      },
      "source": [
        "We are now ready to calculate metrics for our deep learning neural network model. We can start by calculating the classification accuracy, precision, recall, and F1 scores."
      ]
    },
    {
      "cell_type": "code",
      "metadata": {
        "colab": {
          "base_uri": "https://localhost:8080/"
        },
        "id": "QqAIyM2oNb4q",
        "outputId": "a712d176-145b-4799-cb17-c41ffbcfb76f"
      },
      "source": [
        "test_classes = np.argmax(testY, axis =1)\n",
        "test_classes"
      ],
      "execution_count": null,
      "outputs": [
        {
          "data": {
            "text/plain": [
              "array([0, 0, 1, 0, 0, 0, 3, 3, 0, 0, 0, 0, 0, 0, 0, 0, 2, 3, 0, 0, 0, 0,\n",
              "       3, 3, 0, 0, 0, 0, 2, 2, 0, 0, 0, 0, 0, 0, 0, 0, 0, 1, 1, 1, 0, 0,\n",
              "       0, 0, 2, 0, 2, 2, 0, 0, 0, 0, 0, 0, 0, 0, 2, 0, 0, 0, 0, 0, 0, 0,\n",
              "       0, 0, 0, 0, 1, 1, 0, 0, 4, 2, 4, 4, 0, 0, 1, 0, 1, 1, 0, 0, 0, 0,\n",
              "       0, 1, 4, 4, 0, 0, 0, 0, 1, 0, 0, 0, 0, 0, 2, 2, 0, 0, 1, 0, 0, 0,\n",
              "       0, 0, 2, 0, 0, 0, 0, 0, 0, 0, 0, 0, 0, 0, 2, 2, 0, 0, 0, 0, 0, 1,\n",
              "       2, 2, 2, 2, 0, 0, 2, 2, 0, 0, 0, 0, 0, 0, 0, 0, 2, 2, 0, 0, 3, 3,\n",
              "       0, 0, 0, 0, 0, 0, 0, 0, 0, 0, 0, 0, 0, 0, 0, 0, 0, 0, 1, 1, 0, 0,\n",
              "       0, 0, 2, 0, 4, 4, 0, 0, 0, 0, 0, 0, 0, 0, 0, 0, 2, 2, 0, 0, 2, 2,\n",
              "       0, 0, 4, 0, 0, 0, 0, 0, 0, 0, 0, 0, 2, 2, 4, 4, 0, 0, 0, 0, 0, 0,\n",
              "       0, 0, 0, 0, 0, 0, 0, 0, 2, 2, 0, 0, 0, 0, 0, 0, 0, 0, 0, 0, 0, 0,\n",
              "       0, 0, 0, 0, 0, 0, 0, 0, 0, 0, 0, 0, 0, 0, 1, 0, 0, 2, 0, 0, 0, 0,\n",
              "       0, 0, 0, 0, 0, 0, 0, 0, 0, 0, 0, 0, 0, 0, 0, 0, 0, 0, 0, 0, 0, 0,\n",
              "       0, 0, 0, 0, 0, 0, 3, 3, 0, 0, 0, 0, 0, 0, 0, 0, 2, 2, 0, 0, 0, 0,\n",
              "       0, 0, 0, 0, 0, 0, 0, 0, 0, 0, 0, 0, 0, 0, 0, 0, 0, 0, 0, 0, 0, 2,\n",
              "       0, 0, 0, 0, 0, 0, 0, 0, 0, 0, 0, 0, 2, 2, 0, 0, 0, 0, 3, 3, 4, 4,\n",
              "       1, 0, 0, 0, 3, 3, 3, 3, 0, 0, 3, 3, 0, 0, 0, 0, 2, 0, 0, 0, 0, 0,\n",
              "       0, 0, 2, 1, 0, 0, 0, 0, 0, 0, 0, 0, 0, 0, 0, 0, 0, 0, 0, 0, 0, 0,\n",
              "       2, 2, 0, 0, 0, 0, 0, 2, 0, 0, 0, 0, 2, 1, 0, 0, 0, 0, 0, 1, 0, 0,\n",
              "       0, 0, 0, 0, 0, 1, 3, 3, 0, 0, 2, 1, 0, 0, 0, 0, 0, 0, 0, 0, 0, 0,\n",
              "       0, 0, 0, 0, 0, 0, 0, 0, 2, 0, 0, 0, 0, 0, 0, 0, 0, 0, 0, 0, 0, 0,\n",
              "       0, 0, 0, 0, 4, 4, 2, 2, 0, 0, 2, 2, 0, 0, 4, 2, 2, 2, 0, 0, 0, 0,\n",
              "       0, 0, 0, 0, 0, 0, 0, 0, 2, 1, 0, 0, 0, 0, 0, 0, 0, 0, 0, 0, 0, 0,\n",
              "       0, 0, 0, 0, 0, 0, 0, 0, 1, 2, 0, 0, 0, 0, 0, 1, 0, 0, 0, 0, 0, 0,\n",
              "       0, 0, 0, 1, 0, 0, 2, 3, 0, 0, 0, 0, 0, 0, 0, 0, 0, 0, 0, 0, 4, 4,\n",
              "       1, 0, 2, 2, 0, 0, 0, 1, 0, 0, 0, 0, 0, 0, 2, 2, 2, 3, 0, 0, 4, 4,\n",
              "       4, 4, 2, 1, 0, 0, 0, 0, 0, 0, 0, 0, 0, 0, 0, 0, 0, 0, 0, 0, 2, 2,\n",
              "       0, 0, 0, 0, 0, 0, 2, 2, 0, 0, 0, 0, 0, 0, 2, 2, 2, 2, 0, 0, 2, 2,\n",
              "       0, 0, 2, 2, 0, 0, 2, 2, 0, 0, 0, 0, 2, 2, 2, 2, 2, 2, 0, 0, 0, 0,\n",
              "       2, 2, 1, 1, 1, 1, 0, 1, 3, 3, 0, 0, 0, 0, 2, 2, 1, 0, 0, 0, 0, 0,\n",
              "       0, 0, 0, 0, 0, 0, 0, 0, 0, 0, 0, 0, 2, 0, 1, 1, 0, 0, 0, 0, 0, 3,\n",
              "       0, 0, 0, 0, 0, 0, 0, 0, 0, 0, 0, 1, 0, 0, 0, 0, 0, 0, 3, 3, 0, 0,\n",
              "       0, 0, 2, 2, 0, 0, 0, 0, 0, 0, 0, 0, 0, 0, 0, 0, 0, 0, 3, 3, 0, 0,\n",
              "       0, 0, 0, 0, 0, 0, 0, 0, 4, 2, 2, 2, 2, 2, 0, 0, 0, 0, 0, 0, 0, 0,\n",
              "       0, 0, 1, 1, 2, 2, 0, 0, 0, 0, 0, 0, 0, 0, 0, 0, 0, 0, 0, 0, 0, 0,\n",
              "       0, 0, 0, 0, 0, 0, 0, 0, 0, 0, 0, 2, 0, 0, 1, 0, 0, 0, 2, 2, 2, 2,\n",
              "       0, 0, 1, 0, 0, 0, 0, 0, 0, 0, 2, 2, 2, 2, 0, 0, 0, 0, 0, 0, 0, 0,\n",
              "       2, 2, 0, 0, 0, 0, 0, 0, 0, 0, 0, 0, 0, 0, 0, 0, 0, 0, 0, 2, 3, 2,\n",
              "       0, 0, 0, 0, 2, 2, 0, 0, 0, 0, 0, 0, 0, 0, 0, 0, 0, 0, 0, 0, 1, 0,\n",
              "       0, 1, 0, 0, 0, 0, 0, 0, 0, 0, 0, 0, 0, 0, 0, 0, 0, 1, 0, 0, 0, 0,\n",
              "       0, 0, 1, 0, 0, 0, 0, 0, 0, 0, 2, 2, 0, 0, 0, 0, 1, 1, 3, 3, 2, 4,\n",
              "       0, 0, 2, 0, 0, 0, 0, 0, 1, 0, 0, 0, 2, 2, 2])"
            ]
          },
          "execution_count": 114,
          "metadata": {},
          "output_type": "execute_result"
        }
      ]
    },
    {
      "cell_type": "code",
      "metadata": {
        "colab": {
          "base_uri": "https://localhost:8080/"
        },
        "id": "Wzvnb-b2VNiv",
        "outputId": "3098259e-1c53-412a-ba94-b2b0de523fce"
      },
      "source": [
        "\n",
        "# accuracy: (tp + tn) / (p + n)\n",
        "accuracy = accuracy_score(test_classes, classes_x)\n",
        "print('Accuracy: %f' % accuracy)\n",
        "# precision tp / (tp + fp)\n",
        "precision = precision_score(test_classes, classes_x, average='micro')\n",
        "print('Precision: %f' % precision)\n",
        "# recall: tp / (tp + fn)\n",
        "recall = recall_score(test_classes, classes_x, average='micro')\n",
        "print('Recall: %f' % recall)\n",
        "# f1: 2 tp / (2 tp + fp + fn)\n",
        "f1 = f1_score(test_classes, classes_x, average='micro')\n",
        "print('F1 score: %f' % f1)"
      ],
      "execution_count": null,
      "outputs": [
        {
          "name": "stdout",
          "output_type": "stream",
          "text": [
            "Accuracy: 0.053435\n",
            "Precision: 0.053435\n",
            "Recall: 0.053435\n",
            "F1 score: 0.053435\n"
          ]
        }
      ]
    }
  ]
}